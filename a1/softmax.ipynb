{
 "cells": [
  {
   "cell_type": "markdown",
   "metadata": {
    "tags": [
     "pdf-title"
    ]
   },
   "source": [
    "# Softmax exercise\n",
    "\n",
    "*Complete and hand in this completed worksheet (including its outputs and any supporting code outside of the worksheet) with your assignment submission. For more details see the [assignments page](http://vision.stanford.edu/teaching/cs231n/assignments.html) on the course website.*\n",
    "\n",
    "This exercise is analogous to the SVM exercise. You will:\n",
    "\n",
    "- implement a fully-vectorized **loss function** for the Softmax classifier\n",
    "- implement the fully-vectorized expression for its **analytic gradient**\n",
    "- **check your implementation** with numerical gradient\n",
    "- use a validation set to **tune the learning rate and regularization** strength\n",
    "- **optimize** the loss function with **SGD**\n",
    "- **visualize** the final learned weights\n"
   ]
  },
  {
   "cell_type": "code",
   "execution_count": 1,
   "metadata": {
    "tags": [
     "pdf-ignore"
    ]
   },
   "outputs": [],
   "source": [
    "import random\n",
    "import numpy as np\n",
    "from cs231n.data_utils import load_CIFAR10\n",
    "import matplotlib.pyplot as plt\n",
    "\n",
    "%matplotlib inline\n",
    "plt.rcParams['figure.figsize'] = (10.0, 8.0) # set default size of plots\n",
    "plt.rcParams['image.interpolation'] = 'nearest'\n",
    "plt.rcParams['image.cmap'] = 'gray'\n",
    "\n",
    "# for auto-reloading extenrnal modules\n",
    "# see http://stackoverflow.com/questions/1907993/autoreload-of-modules-in-ipython\n",
    "%load_ext autoreload\n",
    "%autoreload 2"
   ]
  },
  {
   "cell_type": "code",
   "execution_count": 2,
   "metadata": {
    "tags": [
     "pdf-ignore"
    ]
   },
   "outputs": [
    {
     "name": "stdout",
     "output_type": "stream",
     "text": [
      "Train data shape:  (49000, 3073)\n",
      "Train labels shape:  (49000,)\n",
      "Validation data shape:  (1000, 3073)\n",
      "Validation labels shape:  (1000,)\n",
      "Test data shape:  (1000, 3073)\n",
      "Test labels shape:  (1000,)\n",
      "dev data shape:  (500, 3073)\n",
      "dev labels shape:  (500,)\n"
     ]
    }
   ],
   "source": [
    "def get_CIFAR10_data(num_training=49000, num_validation=1000, num_test=1000, num_dev=500):\n",
    "    \"\"\"\n",
    "    Load the CIFAR-10 dataset from disk and perform preprocessing to prepare\n",
    "    it for the linear classifier. These are the same steps as we used for the\n",
    "    SVM, but condensed to a single function.  \n",
    "    \"\"\"\n",
    "    # Load the raw CIFAR-10 data\n",
    "    cifar10_dir = 'cs231n/datasets/cifar-10-batches-py'\n",
    "    \n",
    "    # Cleaning up variables to prevent loading data multiple times (which may cause memory issue)\n",
    "    try:\n",
    "       del X_train, y_train\n",
    "       del X_test, y_test\n",
    "       print('Clear previously loaded data.')\n",
    "    except:\n",
    "       pass\n",
    "\n",
    "    X_train, y_train, X_test, y_test = load_CIFAR10(cifar10_dir)\n",
    "    \n",
    "    # subsample the data\n",
    "    mask = list(range(num_training, num_training + num_validation))\n",
    "    X_val = X_train[mask]\n",
    "    y_val = y_train[mask]\n",
    "    mask = list(range(num_training))\n",
    "    X_train = X_train[mask]\n",
    "    y_train = y_train[mask]\n",
    "    mask = list(range(num_test))\n",
    "    X_test = X_test[mask]\n",
    "    y_test = y_test[mask]\n",
    "    mask = np.random.choice(num_training, num_dev, replace=False)\n",
    "    X_dev = X_train[mask]\n",
    "    y_dev = y_train[mask]\n",
    "    \n",
    "    # Preprocessing: reshape the image data into rows\n",
    "    X_train = np.reshape(X_train, (X_train.shape[0], -1))\n",
    "    X_val = np.reshape(X_val, (X_val.shape[0], -1))\n",
    "    X_test = np.reshape(X_test, (X_test.shape[0], -1))\n",
    "    X_dev = np.reshape(X_dev, (X_dev.shape[0], -1))\n",
    "    \n",
    "    # Normalize the data: subtract the mean image\n",
    "    mean_image = np.mean(X_train, axis = 0)\n",
    "    X_train -= mean_image\n",
    "    X_val -= mean_image\n",
    "    X_test -= mean_image\n",
    "    X_dev -= mean_image\n",
    "    \n",
    "    # add bias dimension and transform into columns\n",
    "    X_train = np.hstack([X_train, np.ones((X_train.shape[0], 1))])\n",
    "    X_val = np.hstack([X_val, np.ones((X_val.shape[0], 1))])\n",
    "    X_test = np.hstack([X_test, np.ones((X_test.shape[0], 1))])\n",
    "    X_dev = np.hstack([X_dev, np.ones((X_dev.shape[0], 1))])\n",
    "    \n",
    "    return X_train, y_train, X_val, y_val, X_test, y_test, X_dev, y_dev\n",
    "\n",
    "\n",
    "# Invoke the above function to get our data.\n",
    "X_train, y_train, X_val, y_val, X_test, y_test, X_dev, y_dev = get_CIFAR10_data()\n",
    "print('Train data shape: ', X_train.shape)\n",
    "print('Train labels shape: ', y_train.shape)\n",
    "print('Validation data shape: ', X_val.shape)\n",
    "print('Validation labels shape: ', y_val.shape)\n",
    "print('Test data shape: ', X_test.shape)\n",
    "print('Test labels shape: ', y_test.shape)\n",
    "print('dev data shape: ', X_dev.shape)\n",
    "print('dev labels shape: ', y_dev.shape)"
   ]
  },
  {
   "cell_type": "markdown",
   "metadata": {},
   "source": [
    "## Softmax Classifier\n",
    "\n",
    "Your code for this section will all be written inside `cs231n/classifiers/softmax.py`.\n"
   ]
  },
  {
   "cell_type": "code",
   "execution_count": 3,
   "metadata": {},
   "outputs": [
    {
     "name": "stdout",
     "output_type": "stream",
     "text": [
      "loss: 2.331402\n",
      "sanity check: 2.302585\n"
     ]
    }
   ],
   "source": [
    "# First implement the naive softmax loss function with nested loops.\n",
    "# Open the file cs231n/classifiers/softmax.py and implement the\n",
    "# softmax_loss_naive function.\n",
    "\n",
    "from cs231n.classifiers.softmax import softmax_loss_naive\n",
    "import time\n",
    "\n",
    "# Generate a random softmax weight matrix and use it to compute the loss.\n",
    "W = np.random.randn(3073, 10) * 0.0001\n",
    "loss, grad = softmax_loss_naive(W, X_dev, y_dev, 0.0)\n",
    "\n",
    "# As a rough sanity check, our loss should be something close to -log(0.1).\n",
    "print('loss: %f' % loss)\n",
    "print('sanity check: %f' % (-np.log(0.1)))"
   ]
  },
  {
   "cell_type": "markdown",
   "metadata": {
    "tags": [
     "pdf-inline"
    ]
   },
   "source": [
    "**Inline Question 1**\n",
    "\n",
    "Why do we expect our loss to be close to -log(0.1)? Explain briefly.\n",
    "\n",
    "$\\color{blue}{\\textit Your Answer:}$ The softmax loss for one example $(x_i, y_i)$ is defined as $L_i = -\\log \\big( \\frac{\\exp(w_{y_i}^T x_i)}{\\sum_j \\exp (w_j^T x_i)} \\big)$, where $w_j, j=1,...,10$, are the rows of the weight matrix W, i.e. the weight for that class.\n",
    "\n",
    "After initializiation, the weights $w_j$ have the same distribution, hence  $\\exp(w_{y_i}^T x_i)$ and $\\exp (w_j^T x_i)$ have the same distribution and expected value, hence $\\frac{\\exp(w_{y_i}^T x_i)}{\\sum_j \\exp (w_j^T x_i)}$ has an expected value close to $1/10$, and the whole expression has an expected value close to $-\\log(1/10)$.\n",
    "\n",
    "The loss is an average over the examples, hence by the law of large numbers it should be close to the expected value.\n",
    "\n",
    "Note that the above is not a derivation at all, just intutition."
   ]
  },
  {
   "cell_type": "code",
   "execution_count": 4,
   "metadata": {},
   "outputs": [
    {
     "name": "stdout",
     "output_type": "stream",
     "text": [
      "numerical: 4.173801 analytic: 4.173801, relative error: 2.811376e-09\n",
      "numerical: 2.098434 analytic: 2.098434, relative error: 1.591503e-08\n",
      "numerical: -0.310308 analytic: -0.310308, relative error: 2.196631e-07\n",
      "numerical: 2.091961 analytic: 2.091961, relative error: 9.211263e-09\n",
      "numerical: 1.307156 analytic: 1.307156, relative error: 1.770881e-08\n",
      "numerical: 0.435426 analytic: 0.435426, relative error: 1.551082e-07\n",
      "numerical: -2.520693 analytic: -2.520693, relative error: 1.028291e-08\n",
      "numerical: -1.083261 analytic: -1.083261, relative error: 4.107311e-08\n",
      "numerical: -0.602973 analytic: -0.602973, relative error: 5.749367e-08\n",
      "numerical: -4.612248 analytic: -4.612249, relative error: 1.832634e-08\n",
      "numerical: 3.633986 analytic: 3.633986, relative error: 5.455476e-09\n",
      "numerical: 0.891385 analytic: 0.891385, relative error: 6.899643e-08\n",
      "numerical: 0.601063 analytic: 0.601063, relative error: 9.678364e-09\n",
      "numerical: -1.717732 analytic: -1.717733, relative error: 1.982787e-08\n",
      "numerical: -1.650807 analytic: -1.650807, relative error: 9.002668e-10\n",
      "numerical: 3.503038 analytic: 3.503038, relative error: 7.487810e-09\n",
      "numerical: -0.261407 analytic: -0.261407, relative error: 1.870910e-07\n",
      "numerical: 2.255513 analytic: 2.255512, relative error: 3.950185e-08\n",
      "numerical: 1.474701 analytic: 1.474701, relative error: 6.006154e-08\n",
      "numerical: -1.961386 analytic: -1.961386, relative error: 4.614083e-08\n"
     ]
    }
   ],
   "source": [
    "# Complete the implementation of softmax_loss_naive and implement a (naive)\n",
    "# version of the gradient that uses nested loops.\n",
    "loss, grad = softmax_loss_naive(W, X_dev, y_dev, 0.0)\n",
    "\n",
    "# As we did for the SVM, use numeric gradient checking as a debugging tool.\n",
    "# The numeric gradient should be close to the analytic gradient.\n",
    "from cs231n.gradient_check import grad_check_sparse\n",
    "f = lambda w: softmax_loss_naive(w, X_dev, y_dev, 0.0)[0]\n",
    "grad_numerical = grad_check_sparse(f, W, grad, 10)\n",
    "\n",
    "# similar to SVM case, do another gradient check with regularization\n",
    "loss, grad = softmax_loss_naive(W, X_dev, y_dev, 5e1)\n",
    "f = lambda w: softmax_loss_naive(w, X_dev, y_dev, 5e1)[0]\n",
    "grad_numerical = grad_check_sparse(f, W, grad, 10)"
   ]
  },
  {
   "cell_type": "code",
   "execution_count": 11,
   "metadata": {},
   "outputs": [
    {
     "name": "stdout",
     "output_type": "stream",
     "text": [
      "naive loss: 2.331402e+00 computed in 0.081444s\n",
      "vectorized loss: 2.331402e+00 computed in 0.075529s\n",
      "Loss difference: 0.000000\n",
      "Gradient difference: 0.000000\n"
     ]
    }
   ],
   "source": [
    "# Now that we have a naive implementation of the softmax loss function and its gradient,\n",
    "# implement a vectorized version in softmax_loss_vectorized.\n",
    "# The two versions should compute the same results, but the vectorized version should be\n",
    "# much faster.\n",
    "tic = time.time()\n",
    "loss_naive, grad_naive = softmax_loss_naive(W, X_dev, y_dev, 0.000005)\n",
    "toc = time.time()\n",
    "print('naive loss: %e computed in %fs' % (loss_naive, toc - tic))\n",
    "\n",
    "from cs231n.classifiers.softmax import softmax_loss_vectorized\n",
    "tic = time.time()\n",
    "loss_vectorized, grad_vectorized = softmax_loss_vectorized(W, X_dev, y_dev, 0.000005)\n",
    "toc = time.time()\n",
    "print('vectorized loss: %e computed in %fs' % (loss_vectorized, toc - tic))\n",
    "\n",
    "# As we did for the SVM, we use the Frobenius norm to compare the two versions\n",
    "# of the gradient.\n",
    "grad_difference = np.linalg.norm(grad_naive - grad_vectorized, ord='fro')\n",
    "print('Loss difference: %f' % np.abs(loss_naive - loss_vectorized))\n",
    "print('Gradient difference: %f' % grad_difference)"
   ]
  },
  {
   "cell_type": "code",
   "execution_count": 15,
   "metadata": {
    "id": "tuning",
    "tags": [
     "code"
    ]
   },
   "outputs": [
    {
     "name": "stdout",
     "output_type": "stream",
     "text": [
      "Starting training run #0 with (lr, reg) = (8.50083556228665e-06, 9.006016431414667e-05)...\n",
      "Starting training run #1 with (lr, reg) = (7.893481083053946e-05, 0.00010318907808669013)...\n",
      "Starting training run #2 with (lr, reg) = (1.1072417430559735e-06, 4.161068390453328e-05)...\n",
      "Starting training run #3 with (lr, reg) = (4.728324930231963e-07, 5.3468238517407475e-05)...\n",
      "Starting training run #4 with (lr, reg) = (2.73484420815769e-05, 0.0007425861055534935)...\n",
      "Starting training run #5 with (lr, reg) = (3.960589066170977e-07, 8.309781859752053e-05)...\n",
      "Starting training run #6 with (lr, reg) = (3.731199410864239e-05, 1.9068776103792555e-05)...\n",
      "Starting training run #7 with (lr, reg) = (3.691796448594734e-07, 8.158690218780866e-05)...\n",
      "Starting training run #8 with (lr, reg) = (2.190812971650067e-07, 0.0005096182962663024)...\n",
      "Starting training run #9 with (lr, reg) = (7.099139893204595e-07, 0.0005006801752122735)...\n",
      "Starting training run #10 with (lr, reg) = (2.956370465324033e-05, 1.7788638873523196e-05)...\n",
      "Starting training run #11 with (lr, reg) = (4.8836937797839e-05, 0.0007194659982642995)...\n",
      "Starting training run #12 with (lr, reg) = (3.493149840560106e-05, 0.00024969972965604645)...\n",
      "Starting training run #13 with (lr, reg) = (2.4667313590505457e-05, 3.0318429663755838e-05)...\n",
      "Starting training run #14 with (lr, reg) = (4.633323854847254e-06, 1.7762799314636086e-05)...\n",
      "Starting training run #15 with (lr, reg) = (7.466263974657907e-05, 0.0003130329977296069)...\n",
      "Starting training run #16 with (lr, reg) = (2.066627208254648e-06, 0.0001664757374119345)...\n",
      "Starting training run #17 with (lr, reg) = (1.9001536955101713e-05, 8.447569243768767e-05)...\n",
      "Starting training run #18 with (lr, reg) = (2.0183682796676444e-05, 0.000521726958232171)...\n",
      "Starting training run #19 with (lr, reg) = (4.760501963916145e-07, 3.6920664946447167e-05)...\n",
      "Starting training run #20 with (lr, reg) = (3.5578213023480793e-07, 1.830530471668118e-05)...\n",
      "Starting training run #21 with (lr, reg) = (3.4562739424316715e-07, 8.661833655555934e-05)...\n",
      "Starting training run #22 with (lr, reg) = (7.130032222627532e-05, 5.603924627045614e-05)...\n",
      "Starting training run #23 with (lr, reg) = (8.796012649852067e-05, 0.0003104346361731945)...\n",
      "Starting training run #24 with (lr, reg) = (2.4734868285180762e-05, 1.3085586273014268e-05)...\n",
      "Starting training run #25 with (lr, reg) = (3.7545318280256874e-07, 2.6148478166360973e-05)...\n",
      "Starting training run #26 with (lr, reg) = (6.95257039823691e-05, 0.0007181475487804481)...\n",
      "Starting training run #27 with (lr, reg) = (3.425019865574794e-05, 0.0009041513609503495)...\n",
      "Starting training run #28 with (lr, reg) = (3.857549639163535e-07, 0.0009445066406238094)...\n",
      "Starting training run #29 with (lr, reg) = (1.3910279250120963e-06, 3.726984484031391e-05)...\n",
      "lr 2.190813e-07 reg 5.096183e-04 train accuracy: 0.418633 val accuracy: 0.376000\n",
      "lr 3.456274e-07 reg 8.661834e-05 train accuracy: 0.430694 val accuracy: 0.349000\n",
      "lr 3.557821e-07 reg 1.830530e-05 train accuracy: 0.431531 val accuracy: 0.343000\n",
      "lr 3.691796e-07 reg 8.158690e-05 train accuracy: 0.419469 val accuracy: 0.380000\n",
      "lr 3.754532e-07 reg 2.614848e-05 train accuracy: 0.429102 val accuracy: 0.342000\n",
      "lr 3.857550e-07 reg 9.445066e-04 train accuracy: 0.432776 val accuracy: 0.362000\n",
      "lr 3.960589e-07 reg 8.309782e-05 train accuracy: 0.418041 val accuracy: 0.363000\n",
      "lr 4.728325e-07 reg 5.346824e-05 train accuracy: 0.399612 val accuracy: 0.379000\n",
      "lr 4.760502e-07 reg 3.692066e-05 train accuracy: 0.431388 val accuracy: 0.351000\n",
      "lr 7.099140e-07 reg 5.006802e-04 train accuracy: 0.415980 val accuracy: 0.370000\n",
      "lr 1.107242e-06 reg 4.161068e-05 train accuracy: 0.402429 val accuracy: 0.367000\n",
      "lr 1.391028e-06 reg 3.726984e-05 train accuracy: 0.427673 val accuracy: 0.345000\n",
      "lr 2.066627e-06 reg 1.664757e-04 train accuracy: 0.414429 val accuracy: 0.347000\n",
      "lr 4.633324e-06 reg 1.776280e-05 train accuracy: 0.425327 val accuracy: 0.359000\n",
      "lr 8.500836e-06 reg 9.006016e-05 train accuracy: 0.350306 val accuracy: 0.353000\n",
      "lr 1.900154e-05 reg 8.447569e-05 train accuracy: 0.387735 val accuracy: 0.328000\n",
      "lr 2.018368e-05 reg 5.217270e-04 train accuracy: 0.329000 val accuracy: 0.264000\n",
      "lr 2.466731e-05 reg 3.031843e-05 train accuracy: 0.349816 val accuracy: 0.318000\n",
      "lr 2.473487e-05 reg 1.308559e-05 train accuracy: 0.342204 val accuracy: 0.288000\n",
      "lr 2.734844e-05 reg 7.425861e-04 train accuracy: 0.344327 val accuracy: 0.316000\n",
      "lr 2.956370e-05 reg 1.778864e-05 train accuracy: 0.273469 val accuracy: 0.242000\n",
      "lr 3.425020e-05 reg 9.041514e-04 train accuracy: 0.402184 val accuracy: 0.334000\n",
      "lr 3.493150e-05 reg 2.496997e-04 train accuracy: 0.274041 val accuracy: 0.260000\n",
      "lr 3.731199e-05 reg 1.906878e-05 train accuracy: 0.302347 val accuracy: 0.276000\n",
      "lr 4.883694e-05 reg 7.194660e-04 train accuracy: 0.314265 val accuracy: 0.298000\n",
      "lr 6.952570e-05 reg 7.181475e-04 train accuracy: 0.336673 val accuracy: 0.301000\n",
      "lr 7.130032e-05 reg 5.603925e-05 train accuracy: 0.314714 val accuracy: 0.281000\n",
      "lr 7.466264e-05 reg 3.130330e-04 train accuracy: 0.295796 val accuracy: 0.290000\n",
      "lr 7.893481e-05 reg 1.031891e-04 train accuracy: 0.261653 val accuracy: 0.264000\n",
      "lr 8.796013e-05 reg 3.104346e-04 train accuracy: 0.288551 val accuracy: 0.282000\n",
      "best validation accuracy achieved during cross-validation: 0.380000\n"
     ]
    }
   ],
   "source": [
    "# Use the validation set to tune hyperparameters (regularization strength and\n",
    "# learning rate). You should experiment with different ranges for the learning\n",
    "# rates and regularization strengths; if you are careful you should be able to\n",
    "# get a classification accuracy of over 0.35 on the validation set.\n",
    "\n",
    "from cs231n.classifiers import Softmax\n",
    "results = {}\n",
    "best_val = -1\n",
    "best_softmax = None\n",
    "\n",
    "################################################################################\n",
    "# TODO:                                                                        #\n",
    "# Use the validation set to set the learning rate and regularization strength. #\n",
    "# This should be identical to the validation that you did for the SVM; save    #\n",
    "# the best trained softmax classifer in best_softmax.                          #\n",
    "################################################################################\n",
    "\n",
    "# Provided as a reference. You may or may not want to change these hyperparameters\n",
    "learning_rates = [1e-7, 5e-7]\n",
    "regularization_strengths = [2.5e4, 5e4]\n",
    "\n",
    "# *****START OF YOUR CODE (DO NOT DELETE/MODIFY THIS LINE)*****\n",
    "\n",
    "n_runs = 30\n",
    "n_iters = 500\n",
    "\n",
    "min_lr, max_lr = [1e-7, 1e-4]\n",
    "min_reg, max_reg = [1e-5, 1e-3]\n",
    "\n",
    "model = Softmax()\n",
    "for i_run in range(n_runs):\n",
    "    lr = np.power(10, np.random.uniform(np.log10(min_lr), np.log10(max_lr)))\n",
    "    reg = np.power(10, np.random.uniform(np.log10(min_reg), np.log10(max_reg)))\n",
    "    \n",
    "    print(f\"Starting training run #{i_run} with (lr, reg) = ({lr}, {reg})...\")\n",
    "    _ = model.train(X_train, y_train, lr, reg, num_iters=n_iters)\n",
    "    y_train_pred = model.predict(X_train)\n",
    "    y_val_pred = model.predict(X_val)\n",
    "    train_acc, val_acc = np.mean(y_train == y_train_pred), np.mean(y_val == y_val_pred)\n",
    "    results[(lr, reg)] = train_acc, val_acc\n",
    "    if val_acc > best_val:\n",
    "        best_val = val_acc\n",
    "        best_softmax = model\n",
    "\n",
    "# *****END OF YOUR CODE (DO NOT DELETE/MODIFY THIS LINE)*****\n",
    "    \n",
    "# Print out results.\n",
    "for lr, reg in sorted(results):\n",
    "    train_accuracy, val_accuracy = results[(lr, reg)]\n",
    "    print('lr %e reg %e train accuracy: %f val accuracy: %f' % (\n",
    "                lr, reg, train_accuracy, val_accuracy))\n",
    "    \n",
    "print('best validation accuracy achieved during cross-validation: %f' % best_val)"
   ]
  },
  {
   "cell_type": "code",
   "execution_count": 16,
   "metadata": {
    "id": "test"
   },
   "outputs": [
    {
     "name": "stdout",
     "output_type": "stream",
     "text": [
      "softmax on raw pixels final test set accuracy: 0.329000\n"
     ]
    }
   ],
   "source": [
    "# evaluate on test set\n",
    "# Evaluate the best softmax on test set\n",
    "y_test_pred = best_softmax.predict(X_test)\n",
    "test_accuracy = np.mean(y_test == y_test_pred)\n",
    "print('softmax on raw pixels final test set accuracy: %f' % (test_accuracy, ))"
   ]
  },
  {
   "cell_type": "markdown",
   "metadata": {
    "tags": [
     "pdf-inline"
    ]
   },
   "source": [
    "**Inline Question 2** - *True or False*\n",
    "\n",
    "Suppose the overall training loss is defined as the sum of the per-datapoint loss over all training examples. It is possible to add a new datapoint to a training set that would leave the SVM loss unchanged, but this is not the case with the Softmax classifier loss.\n",
    "\n",
    "$\\color{blue}{\\textit Your Answer:}$ True\n",
    "\n",
    "\n",
    "$\\color{blue}{\\textit Your Explanation:}$ For the SVM, the loss can stay unchanged as long as the score for the new point and its correct class is higher by more than one (the margin). While for the Softmax classifier, the loss would theoretically be zero if the normalized probability for the correct class is 1, which we approach as the unnormalized score of the correct class grows towards infinity, but never quite reach Therefore, in the case of the Softmax classifier, the per-datapoint loss for the new datapoint could not vanish completely, and some tiny change to the sum of per-datapoint losses would always occur.\n",
    "\n"
   ]
  },
  {
   "cell_type": "code",
   "execution_count": 17,
   "metadata": {},
   "outputs": [
    {
     "data": {
      "image/png": "[encoded data removed]",
      "text/plain": [
       "<Figure size 432x288 with 10 Axes>"
      ]
     },
     "metadata": {
      "needs_background": "light"
     },
     "output_type": "display_data"
    }
   ],
   "source": [
    "# Visualize the learned weights for each class\n",
    "w = best_softmax.W[:-1,:] # strip out the bias\n",
    "w = w.reshape(32, 32, 3, 10)\n",
    "\n",
    "w_min, w_max = np.min(w), np.max(w)\n",
    "\n",
    "classes = ['plane', 'car', 'bird', 'cat', 'deer', 'dog', 'frog', 'horse', 'ship', 'truck']\n",
    "for i in range(10):\n",
    "    plt.subplot(2, 5, i + 1)\n",
    "    \n",
    "    # Rescale the weights to be between 0 and 255\n",
    "    wimg = 255.0 * (w[:, :, :, i].squeeze() - w_min) / (w_max - w_min)\n",
    "    plt.imshow(wimg.astype('uint8'))\n",
    "    plt.axis('off')\n",
    "    plt.title(classes[i])"
   ]
  },
  {
   "cell_type": "code",
   "execution_count": null,
   "metadata": {},
   "outputs": [],
   "source": []
  }
 ],
 "metadata": {
  "kernelspec": {
   "display_name": "Python 3",
   "language": "python",
   "name": "python3"
  },
  "language_info": {
   "codemirror_mode": {
    "name": "ipython",
    "version": 3
   },
   "file_extension": ".py",
   "mimetype": "text/x-python",
   "name": "python",
   "nbconvert_exporter": "python",
   "pygments_lexer": "ipython3",
   "version": "3.7.7"
  }
 },
 "nbformat": 4,
 "nbformat_minor": 2
}
